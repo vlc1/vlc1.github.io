{
 "cells": [
  {
   "cell_type": "code",
   "execution_count": null,
   "metadata": {},
   "outputs": [],
   "source": [
    "using Plots, LinearAlgebra, Kronecker"
   ]
  },
  {
   "cell_type": "markdown",
   "metadata": {},
   "source": [
    "Versions [Pluto](https://github.com/vlc1/ene-4102c-td/blob/master/td6.jl) et [Jupyter](https://vlc1.github.io/ene-4102c/td6/sujet.ipynb) de ce notebook.\n"
   ]
  },
  {
   "cell_type": "markdown",
   "metadata": {},
   "source": [
    "# Conduction dans une plaque en régime instationnaire\n",
    "\n",
    "On reprend ici la résolution du problème de la conduction dans une plaque $\\left ( x, y \\right ) \\in \\left [ 0, 1 \\right ] ^ 2$, à ceci près que cette fois-ci le régime est supposé instationnaire. On se propose donc de résoudre numériquement le problème suivant :\n",
    "$$\n",
    "\\rho c_p \\left . \\frac{\\partial \\theta}{\\partial t} \\right \\vert _ {x, y} = \\lambda \\Delta \\theta \\left ( x, y \\right ) + \\omega \\left ( x, y \\right )\n",
    "$$\n",
    "où on écrit encore une fois le Laplacien en coordonnées Cartésiennes, c'est à dire\n",
    "$$\n",
    "\\Delta \\theta = \\left . \\frac{\\partial ^ 2 \\theta}{\\partial x ^ 2} \\right \\vert _ y +  \\left . \\frac{\\partial ^ 2 \\theta}{\\partial y ^ 2} \\right \\vert _ x.\n",
    "$$\n",
    "\n",
    "Le champs de température $\\theta$ sera soumis aux conditions aux limites suivantes (noter la dépendance temporelle) :\n",
    "$$\n",
    "\\left \\{ \\begin{aligned}\n",
    "\\partial_x \\theta \\left ( t, 0, y \\right ) & = g_1 \\left ( t, y \\right ), \\\\\n",
    "\\theta \\left ( t, 1, y \\right ) & = \\theta_1 \\left ( t, y \\right ),\n",
    "\\end{aligned} \\right . \\quad \\mathrm{and} \\quad \\left \\{ \\begin{aligned}\n",
    "\\partial_y \\theta \\left ( t, x, 0 \\right ) & = g_2 \\left ( t, x \\right ), \\\\\n",
    "\\theta \\left ( t, x, 1 \\right ) & = \\theta_2 \\left ( t, x \\right ).\n",
    "\\end{aligned} \\right .\n",
    "$$\n",
    "\n",
    "À ces conditions aux limites, il convient d'ajouter la condition initiale\n",
    "$$\n",
    "\\theta \\left ( 0, x, y \\right ) = \\theta_0 \\left ( x, y \\right ).\n",
    "$$\n",
    "\n",
    "On se propose de résoudre ce problème par\n",
    "\n",
    "1. La méthode des différences finies pour ce qui est des dérivées spatiales,\n",
    "1. Les méthodes d'Euler (explicite et implicites) pour ce qui est de la dérivée temporelle.\n",
    "\n",
    "Pour ce faire, on utilisera les codes ci-dessous, modifiés à partir de ceux des séances précédentes. On commencera par implémenter les fonctions `ω`, `g₁`, `g₂`, `θ₁`, `θ₂` et `θ₀` à la fin de ce notebook.\n"
   ]
  },
  {
   "cell_type": "code",
   "execution_count": null,
   "metadata": {},
   "outputs": [],
   "source": [
    "# NE PAS MODIFIER\n",
    "ϕ() = 1 / √3\n",
    "spacing(n) = 1 / (n + ϕ())\n",
    "mesh(n) = [spacing(n) * (ϕ() + (j - 1)) for j in 1:n]"
   ]
  },
  {
   "cell_type": "code",
   "execution_count": null,
   "metadata": {},
   "outputs": [],
   "source": [
    "# NE PAS MODIFIER\n",
    "function laplacian(n)\n",
    "    h = spacing(n)\n",
    "\n",
    "    A = Tridiagonal(zeros.((n - 1, n, n - 1))...)\n",
    "\n",
    "    # gauche\n",
    "    A[1, 1] = 1 / (ϕ() + 1 / 2) / h ^ 2\n",
    "    A[1, 2] = -1 / (ϕ() + 1 / 2) / h ^ 2\n",
    "\n",
    "    # intérieur\n",
    "    for j in 2:n - 1\n",
    "        A[j, j - 1] = -1 / h ^ 2\n",
    "        A[j, j] = 2 / h ^ 2\n",
    "        A[j, j + 1] = -1 / h ^ 2\n",
    "    end\n",
    "\n",
    "    # droite\n",
    "    A[n, n - 1] = -1 / h ^ 2\n",
    "    A[n, n] = 2 / h ^ 2\n",
    "\n",
    "    A\n",
    "end\n",
    "\n",
    "function laplacian(n::NTuple{2, Int})\n",
    "    id = Diagonal.(fill.(-1.0, n))\n",
    "    fd = laplacian.(n)\n",
    "    kron(id[2], fd[1]) + kron(fd[2], id[1])\n",
    "end"
   ]
  },
  {
   "cell_type": "code",
   "execution_count": null,
   "metadata": {},
   "outputs": [],
   "source": [
    "# NE PAS MODIFIER\n",
    "function rhs(ω, g₁, g₂, θ₁, θ₂, n, t)\n",
    "    h = spacing.(n)\n",
    "    x, y = mesh.(n)\n",
    "\n",
    "    # source\n",
    "    b = map(Tuple.(CartesianIndices(n))) do (i, j)\n",
    "        ω(t, x[i], y[j])\n",
    "    end\n",
    "\n",
    "    # boundary conditions\n",
    "    b[1, :] .+= g₁.(t, y) / (ϕ() + 1 / 2) / h[1]\n",
    "    b[end, :] .-= θ₁.(t, y) / h[1] ^ 2\n",
    "    b[:, 1] .+= g₂.(t, x) / (ϕ() + 1 / 2) / h[2]\n",
    "    b[:, end] .-= θ₂.(t, x) / h[2] ^ 2\n",
    "\n",
    "    b\n",
    "end"
   ]
  },
  {
   "cell_type": "code",
   "execution_count": null,
   "metadata": {},
   "outputs": [],
   "source": [
    "# À MODIFIER\n",
    "begin\n",
    "    ω(t, x, y) = zero(x)\n",
    "    g₁(t, y) = zero(y)\n",
    "    g₂(t, x) = zero(x)\n",
    "    θ₁(t, y) = zero(y)\n",
    "    θ₂(t, x) = zero(x)\n",
    "    θ₀(x, y) = zero(x)\n",
    "end"
   ]
  }
 ],
 "metadata": {
  "@webio": {
   "lastCommId": "9a051d5da6fe472a85f38f78366ca7ab",
   "lastKernelId": "5b73aaae-b54c-4492-8e74-da8654fb0046"
  },
  "kernelspec": {
   "display_name": "Julia 1.5.1",
   "language": "julia",
   "name": "julia-1.5"
  },
  "language_info": {
   "file_extension": ".jl",
   "mimetype": "application/julia",
   "name": "julia",
   "version": "1.5.1"
  },
  "toc": {
   "base_numbering": 1,
   "nav_menu": {},
   "number_sections": true,
   "sideBar": true,
   "skip_h1_title": false,
   "title_cell": "Table of Contents",
   "title_sidebar": "Contents",
   "toc_cell": false,
   "toc_position": {},
   "toc_section_display": true,
   "toc_window_display": false
  }
 },
 "nbformat": 4,
 "nbformat_minor": 2
}
