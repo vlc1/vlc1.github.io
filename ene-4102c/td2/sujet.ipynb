{
 "cells": [
  {
   "cell_type": "code",
   "execution_count": null,
   "metadata": {},
   "outputs": [],
   "source": [
    "using Zygote, Plots"
   ]
  },
  {
   "cell_type": "markdown",
   "metadata": {},
   "source": [
    "Versions [Pluto](https://github.com/vlc1/ene-4102c-td/blob/master/td2.jl) et [Jupyter](https://vlc1.github.io/ene-4102c/td2.ipynb) de ce notebook.\n"
   ]
  },
  {
   "cell_type": "markdown",
   "metadata": {},
   "source": [
    "# Recherche de la racine d'une fonction\n",
    "\n",
    "Nous avons vu lors de la séance 3 que les éléments\n",
    "$$\n",
    "\\begin{aligned}\n",
    "y_1 & \\simeq y \\left ( t_1 \\right ), \\\\\n",
    "y_2 & \\simeq y \\left ( t_2 \\right ), \\\\\n",
    "& \\ldots\n",
    "\\end{aligned}\n",
    "$$\n",
    "de la solution numérique du problème de Cauchy\n",
    "$$\n",
    "\\left \\{ \\begin{aligned}\n",
    "\\dot{y} \\left ( t \\right ) & = f \\left [ t, y \\left ( t \\right ) \\right ], \\\\\n",
    "y \\left ( 0 \\right ) & = y_0\n",
    "\\end{aligned} \\right .\n",
    "$$\n",
    "par les méthodes à pas unique sont définis implicitement, c'est à dire comme racines de fonctions.\n",
    "\n",
    "Dans le cas du schéma implicite d'Euler, par exemple, l'élément $y_{n + 1}$ ($n = 0, \\ldots N - 1$) est la racine de l'équation\n",
    "$$\n",
    "F_n \\left ( x \\right ) = 0\n",
    "$$\n",
    "où ($\\tau$ dénote le pas de temps)\n",
    "$$\n",
    "F_n \\colon x \\mapsto x - y_n - \\tau f \\left ( t_{n + 1}, x \\right ).\n",
    "$$\n",
    "\n",
    "L'objectif de cette première partie est de présenter, dans le cas scalaire ($\\forall n = 1, \\ldots N$, $y_n \\in \\mathbb{K}$ où $\\mathbb{K} = \\mathbb{R}, \\mathbb{C}$...), une méthode de résolution numérique de ces équations : la méthode de Newton.\n",
    "\n",
    "## Différentiation algorithmique\n",
    "\n",
    "Avant toute chose, la méthode de Newton requiert l'évaluation du gradient d'une fonction. Considérons la fonction de deux variables\n",
    "$$\n",
    "f \\colon \\left ( x, y \\right ) \\mapsto x ^ 2 e ^ {-y}.\n",
    "$$\n",
    "\n",
    "Cette fonction étant relativement simple, nous pouvons bien sûr la dériver par rapport à $x$ ou $y$, pour en obtenir le gradient\n",
    "$$\n",
    "\\nabla f \\colon \\left ( x, y \\right ) \\mapsto \\left ( 2x e ^ {-y}, -x ^ 2 e ^ {-y} \\right ).\n",
    "$$\n",
    "\n",
    "Bien que tout à fait acceptable, on préfère souvent à cette approche \"à la main\" une autre approche, dite **différentiation algorithmique**. L'idée est que l'utilisateur se contente de fournir la fonction `f` seule, le code faisant le reste pour en calculer le gradient (ou une valeur approchée).\n",
    "\n",
    "Cette étape peut être réalisée grâce à plusieurs techniques, notamment par différences finies, *dual numbers*, *source-to-source transformation*... Nous nous contenterons ici d'utiliser le package `Zygote.jl`. Dans le cas de la fonction précédente, le gradient au point $\\left ( 1, 2 \\right )$ est tout simplement évalué comme suit.\n"
   ]
  },
  {
   "cell_type": "code",
   "execution_count": null,
   "metadata": {},
   "outputs": [],
   "source": [
    "gradient((x, y) -> x ^ 2 * exp(-y), 1., 2.)"
   ]
  },
  {
   "cell_type": "markdown",
   "metadata": {},
   "source": [
    "**Question** -- Soit la fonction\n",
    "$$\n",
    "\\left ( x, y, z \\right ) \\mapsto \\sin \\left ( x \\right ) \\cos \\left ( y - z \\right ).\n",
    "$$\n",
    "En dériver le gradient et comparer la valeur au point $\\left ( \\pi / 2, \\pi / 3, \\pi / 4 \\right )$ avec celle obtenue par la fonction `gradient` de `Zygote.jl`.\n"
   ]
  },
  {
   "cell_type": "markdown",
   "metadata": {},
   "source": [
    "## Méthode de Newton\n",
    "\n",
    "À partir d'une estimation initiale $x _ 0$ de la solution $x _ \\star$ de l'équation\n",
    "$$\n",
    "f \\left ( x _ \\star \\right ) = 0\n",
    "$$\n",
    "(où $f$ dénote une fonction $\\mathcal{C} ^ 1$), la méthode de Newton produit une séquence $\\left ( x _ k \\right )$ qui, sous certaines conditions, tend vers la solution $x _ \\star$.\n",
    "\n",
    "La séquence est définie comme suit :\n",
    "$$\n",
    "\\forall k \\in \\mathbb{N}, \\quad x _ {k + 1} = x _ k - \\frac{f \\left ( x _ k \\right )}{f' \\left ( x _ k \\right )}.\n",
    "$$\n"
   ]
  },
  {
   "cell_type": "code",
   "execution_count": null,
   "metadata": {},
   "outputs": [],
   "source": [
    "function newton(f, x, p...)\n",
    "    r = f(x, p...)\n",
    "    while abs(r) > √eps(r)\n",
    "        x -= r / first(gradient(f, x, p...))\n",
    "        r = f(x, p...)\n",
    "    end\n",
    "    x, r\n",
    "end"
   ]
  },
  {
   "cell_type": "markdown",
   "metadata": {},
   "source": [
    "Pour une interprétation graphique de la méthode, voir l'animation suivante (source : [wikipedia](https://en.wikipedia.org/wiki/Newton%27s_method)).\n",
    "\n",
    "![Méthode de Newton](https://upload.wikimedia.org/wikipedia/commons/e/e0/NewtonIteration_Ani.gif)\n",
    "\n",
    "On remarquera la nécessité d'évaluer la dérivée de $f$ à chaque itération. La fonction suivante implémente cet algorithme. Elle cherche la racine par rapport au premier argument de la fonction $f$, dénoté ici $x$. $p$ représente ici un ou plusieurs paramètres (implémentée ici par une **fonction variadique**, c'est à dire une fonction qui accepte un nombre arbitraire d'arguments.\n",
    "\n",
    "**Exemple** -- Soit la famille de fonctions\n",
    "$$\n",
    "f_\\alpha \\colon x \\mapsto x ^ \\alpha - 2.\n",
    "$$\n",
    "Cherchons sa racine dans le cas $\\alpha = 3$ à partir de l'estimation initiale $x = 2$.\n",
    "\n",
    "\"\"\""
   ]
  },
  {
   "cell_type": "code",
   "execution_count": null,
   "metadata": {},
   "outputs": [],
   "source": [
    "newton((x, α) -> x ^ α - 2, 2., 3)"
   ]
  },
  {
   "cell_type": "markdown",
   "metadata": {},
   "source": [
    "Cette valeur est évidemment à comparer à la racine cubique de $2$, soit\n",
    "```julia\n",
    "julia> cbrt(2.)\n",
    "1.2599210498948732\n",
    "```\n",
    "\n",
    "On note enfin que la fonction `newton` retourne un `Tuple` de deux éléments :\n",
    "\n",
    "1. Le premier est la dernière estimation de $x _ \\star$,\n",
    "1. Le second est la valeur de la fonction en ce point.\n"
   ]
  },
  {
   "cell_type": "markdown",
   "metadata": {},
   "source": [
    "# Modèle et solution exacte\n",
    "\n",
    "On se concentre pour l'instant sur le modèle linéaire homogène (décroissance radioactive), pour lequel le second membre de l'EDO s'écrit\n",
    "$$\n",
    "f \\colon \\left ( t, y \\right ) \\mapsto \\lambda y.\n",
    "$$\n",
    "\n",
    "La solution exacte s'écrit alors sous la forme :\n",
    "$$\n",
    "y \\colon t \\mapsto \\exp \\left ( \\lambda t \\right ) y_0.\n",
    "$$\n",
    "\n",
    "Ces deux fonctions sont implémentées dans les cellules suivantes.\n"
   ]
  },
  {
   "cell_type": "code",
   "execution_count": null,
   "metadata": {},
   "outputs": [],
   "source": [
    "linear(t, q, λ = -1) = λ * q"
   ]
  },
  {
   "cell_type": "code",
   "execution_count": null,
   "metadata": {},
   "outputs": [],
   "source": [
    "solution(t, λ = -1, y₀ = 1.) = exp(λ * t) * y₀"
   ]
  },
  {
   "cell_type": "markdown",
   "metadata": {},
   "source": [
    "# Schéma numérique\n",
    "\n",
    "On rappelle que lors de la séance 3, quatre schémas numériques ont été présentés :\n",
    "$$\n",
    "y_{n + 1} - y_n - \\tau f \\left ( t_n, y_n \\right ) = 0 \\quad \\text{(Euler explicite)},\n",
    "$$\n",
    "$$\n",
    "y_{n + 1} - y_n - \\tau f \\left ( t_{n + 1}, y_{n + 1} \\right ) = 0 \\quad \\text{(Euler implicite)},\n",
    "$$\n",
    "$$\n",
    "y_{n + 1} - y_n - \\tau \\frac{f \\left ( t_n, y_n \\right ) + f \\left ( t_{n + 1}, y_{n + 1} \\right )}{2} = 0 \\quad \\text{(Méthode des trapèzes)},\n",
    "$$\n",
    "$$\n",
    "y_{n + 1} - y_n - \\tau f \\left ( \\frac{t_n + t_{n + 1}}{2}, \\frac{y_n + y_{n + 1}}{2} \\right ) = 0 \\quad \\text{(Méthode du point milieu)}.\n",
    "$$\n",
    "\n",
    "**Question** -- En suivant l'exemple suivant (`explicit`), implémenter les fonctions `implicit`, `trapezoidal` et `midpoint` dont la racine est $y_{n + 1}$. On préservera l'ordre des paramètres, au nombre de 3, à savoir\n",
    "\n",
    "* `y` -- la solution précédente, $y _ n$ ;\n",
    "* `τ` -- le pas de temps, $\\tau$ ;\n",
    "* `t` -- l'instant précédent, $t _ n$.\n"
   ]
  },
  {
   "cell_type": "code",
   "execution_count": null,
   "metadata": {},
   "outputs": [],
   "source": [
    "explicit(f, x, y, τ, t) = x - y - τ * f(t, y)"
   ]
  },
  {
   "cell_type": "markdown",
   "metadata": {},
   "source": [
    "Il existe bien sûr un grand nombre de schémas à pas unique, ceux de Runge-Kutta étant parmi les plus connus, notamment le schéma explicite d'ordre 2\n",
    "$$\n",
    "\\begin{aligned}\n",
    "y _ * & = y _ n + \\frac{\\tau}{2} f \\left ( t_n, y_n \\right ), \\\\\n",
    "y _ {n + 1} & = y _ n + \\tau f \\left ( t_n + \\frac{\\tau}{2}, y _ * \\right )\n",
    "\\end{aligned}\n",
    "$$\n",
    "et celui d'ordre 4\n",
    "$$\n",
    "\\begin{aligned}\n",
    "k _ 1 & = \\tau f \\left ( t _ n, y _ n \\right ), \\\\\n",
    "k _ 2 & = \\tau f \\left ( t _ n + \\frac{\\tau}{2}, y_n + \\frac{k _ 1}{2} \\right ), \\\\\n",
    "k _ 3 & = \\tau f \\left ( t _ n + \\frac{\\tau}{2}, y_n + \\frac{k _ 2}{2} \\right ), \\\\\n",
    "k _ 4 & = \\tau f \\left ( t _ n + \\tau, y_n + k _ 3 \\right )\n",
    "\\end{aligned}\n",
    "$$\n",
    "et enfin\n",
    "$$\n",
    "y _ {n + 1} = y _ n + \\frac{k _ 1 + 2 k _ 2 + 2 k _ 3 + k _ 4}{6}.\n",
    "$$\n",
    "\n",
    "**Question** -- À partir de la fonction `rk2` suivante, implémenter la fonction `rk4`.\n"
   ]
  },
  {
   "cell_type": "code",
   "execution_count": null,
   "metadata": {},
   "outputs": [],
   "source": [
    "function rk2(f, x, y, τ, t)\n",
    "    z = y + τ * f(t, y) / 2\n",
    "    x - y - τ * f(t + τ / 2, z)\n",
    "end"
   ]
  },
  {
   "cell_type": "markdown",
   "metadata": {},
   "source": [
    "# Intégration temporelle\n",
    "\n",
    "Il reste à présent à assembler les différentes briques, à savoir les modèles et les schémas implémentés. Pour ce faire, on définit un nouveau **composite type**, que l'on nommera `Problem` (la première lettre du nom des types est, par convention, en majuscule).\n"
   ]
  },
  {
   "cell_type": "code",
   "execution_count": null,
   "metadata": {},
   "outputs": [],
   "source": [
    "struct Problem{F, G}\n",
    "    scheme::F\n",
    "    model::G\n",
    "end"
   ]
  },
  {
   "cell_type": "markdown",
   "metadata": {},
   "source": [
    "On souhaite enfin que les instances de ce nouveau type puissent être appelées comme une fonction de plusieurs arguments. Ces instances seront ensuite passées comme premier argument à la fonction `newton`. On dira que la cellule suivante rend les objets de type `Problem` **callable**.\n"
   ]
  },
  {
   "cell_type": "code",
   "execution_count": null,
   "metadata": {},
   "outputs": [],
   "source": [
    "(this::Problem)(var...) = this.scheme(this.model, var...)"
   ]
  },
  {
   "cell_type": "markdown",
   "metadata": {},
   "source": [
    "Il ne reste plus qu'à implémenter la bouche d'intégration temporelle. Étant donnés\n",
    "\n",
    "* Une condition et un instant initiaux, `y` et `t`,\n",
    "* Un pas de temps et un nombre d'itérations, `τ` et `n`,\n",
    "\n",
    "la fonction `integrate` retourne un `Tuple` de deux vecteurs, le premier contenant les instants\n",
    "$$\n",
    "t_0 \\quad t_1 \\quad \\cdots \\quad t_N\n",
    "$$\n",
    "et le second la solution numérique, à savoir\n",
    "$$\n",
    "y_0 \\quad y_1 \\quad \\cdots \\quad y_N.\n",
    "$$\n"
   ]
  },
  {
   "cell_type": "code",
   "execution_count": null,
   "metadata": {},
   "outputs": [],
   "source": [
    "function integrate(problem, y, t, τ, n)\n",
    "    T = [t]\n",
    "    Y = [y]\n",
    "\n",
    "    for i in 1:n\n",
    "        y, _ = newton(problem, y, y, τ, t)\n",
    "        t += τ\n",
    "        \n",
    "        push!(Y, y)\n",
    "        push!(T, t)\n",
    "    end\n",
    "\n",
    "    T, Y\n",
    "end"
   ]
  },
  {
   "cell_type": "markdown",
   "metadata": {},
   "source": [
    "# Premier exemple\n",
    "\n",
    "Les cellules suivantes illustrent la résolution du problème linéaire par la méthode explicit d'Euler.\n"
   ]
  },
  {
   "cell_type": "code",
   "execution_count": null,
   "metadata": {},
   "outputs": [],
   "source": [
    "problem = Problem(explicit, linear)"
   ]
  },
  {
   "cell_type": "code",
   "execution_count": null,
   "metadata": {},
   "outputs": [],
   "source": [
    "y, t = 1.0, 0."
   ]
  },
  {
   "cell_type": "code",
   "execution_count": null,
   "metadata": {},
   "outputs": [],
   "source": [
    "τ, n = 0.1, 10"
   ]
  },
  {
   "cell_type": "code",
   "execution_count": null,
   "metadata": {},
   "outputs": [],
   "source": [
    "T, Y = integrate(problem, y, t, τ, n)"
   ]
  },
  {
   "cell_type": "markdown",
   "metadata": {},
   "source": [
    "La solution numérique peut être visualisée et comparée à la solution exacte grâce aux commandes suivantes.\n"
   ]
  },
  {
   "cell_type": "code",
   "execution_count": null,
   "metadata": {},
   "outputs": [],
   "source": [
    "begin\n",
    "    a, b = first(T), last(T)\n",
    "    c, d = minimum(Y), maximum(Y)\n",
    "    fig = scatter(T, Y, xlims = (a, b), ylims = (1.1c - 0.1d, -0.1c + 1.1d))\n",
    "    plot!(fig, a:(b - a) / 100:b, solution)\n",
    "end"
   ]
  },
  {
   "cell_type": "markdown",
   "metadata": {},
   "source": [
    "**Question** -- Augmenter progressivement le pas de temps d'intégration de `Problem(explicit, linear)`. Que remarque t'on ?\n",
    "\n",
    "**Question** -- Tester différents schémas avec différents pas de temps. Qu'observe t'on ?\n",
    "\n",
    "**Question** -- Calculer l'erreur à un temps donné (par exemple, $T = 1$) en fonction du pas en temps pour chacun des schémas implémentés. Visualiser ces données sur un graphique en échelle logarithmique.\n"
   ]
  },
  {
   "cell_type": "markdown",
   "metadata": {},
   "source": [
    "# Au delà du cas linéaire\n",
    "\n",
    "Tout l'intérêt de la méthode de Newton est qu'on peut bien sûr s'affranchir de la linéarité du modèle (même si, pour rester simple, ce notebook se limite au cas scalaire).\n",
    "\n",
    "**Question** -- Utiliser ou imaginer un modèle non-linéaire et en visualiser la solution.\n"
   ]
  },
  {
   "cell_type": "code",
   "execution_count": null,
   "metadata": {},
   "outputs": [],
   "source": [
    "nonlinear(t, y, λ = -1) = λ * y ^ 2 / (1 + t)"
   ]
  },
  {
   "cell_type": "markdown",
   "metadata": {},
   "source": [
    "# Au delà du cas scalaire\n",
    "\n",
    "On se propose à présent d'utiliser une bibliothèque existante, `DifferentialEquations.jl`, pour résoudre l'[équation de prédation de Lotka-Volterra](https://fr.wikipedia.org/wiki/%C3%89quations_de_pr%C3%A9dation_de_Lotka-Volterra) :\n",
    "\n",
    "> En mathématiques, les équations de prédation de Lotka-Volterra, que l'on désigne aussi sous le terme de \"modèle proie-prédateur\", sont un couple d'équations différentielles non-linéaires du premier ordre, et sont couramment utilisées pour décrire la dynamique de systèmes biologiques dans lesquels un prédateur et sa proie interagissent. Elles ont été proposées indépendamment par Alfred James Lotka en 1925 et Vito Volterra en 1926.\n",
    "\n",
    "Le système d'équations s'écrit :\n",
    "$$\n",
    "\\left \\{ \\begin{aligned}\n",
    "\\dot{x} \\left ( t \\right ) & = x \\left ( t \\right ) \\left [ \\alpha - \\beta y \\left ( t \\right ) \\right ], \\\\\n",
    "\\dot{y} \\left ( t \\right ) & = y \\left ( t \\right ) \\left [ \\delta x \\left ( t \\right ) - \\gamma \\right ]\n",
    "\\end{aligned} \\right .\n",
    "$$\n",
    "où\n",
    "\n",
    "* $t$ est le temps ;\n",
    "* $x \\left ( t \\right )$ est l'effectif des proies à l'instant $t$ ;\n",
    "* $y \\left ( t \\right )$ est l'effectif des prédateurs à l'instant $t$.\n",
    "\n",
    "Les paramètres suivants enfin caractérisent les interactions entre les deux espèces :\n",
    "$$\n",
    "\\alpha = 0.1, \\quad \\beta = 0.003, \\quad \\gamma = 0.06, \\quad \\delta = 0.0012.\n",
    "$$\n",
    "\n",
    "**Question** -- Résoudre l'équation de Lotka-Volterra avec la bibliothèque `DifferenialEquations.jl` et de sa [documentation](https://diffeq.sciml.ai/stable/tutorials/ode_example/).\n"
   ]
  }
 ],
 "metadata": {
  "@webio": {
   "lastCommId": null,
   "lastKernelId": null
  },
  "kernelspec": {
   "display_name": "Julia 1.5.1",
   "language": "julia",
   "name": "julia-1.5"
  },
  "language_info": {
   "file_extension": ".jl",
   "mimetype": "application/julia",
   "name": "julia",
   "version": "1.5.1"
  },
  "toc": {
   "base_numbering": 1,
   "nav_menu": {},
   "number_sections": true,
   "sideBar": true,
   "skip_h1_title": false,
   "title_cell": "Table of Contents",
   "title_sidebar": "Contents",
   "toc_cell": false,
   "toc_position": {},
   "toc_section_display": true,
   "toc_window_display": false
  }
 },
 "nbformat": 4,
 "nbformat_minor": 2
}
