{
  "cells": [
    {
      "cell_type": "code",
      "execution_count": null,
      "metadata": {},
      "outputs": [],
      "source": [
        "### A Pluto.jl notebook ###\n",
        "# v0.11.14\n",
        "\n",
        "using Markdown\n",
        "using InteractiveUtils"
      ]
    },
    {
      "cell_type": "code",
      "execution_count": null,
      "metadata": {},
      "outputs": [],
      "source": [
        "md\"\"\"\n",
        "L'objectif de ce notebook (à retrouver [ici](https://github.com/vlc1/ene-4102c-td/blob/master/td1-part1.jl)) est l'installation et la prise en main de\n",
        "\n",
        "1. Julia et sa consolve,\n",
        "1. les notebooks réactifs de `Pluto`,\n",
        "1. le tracé de courbes avec la bibliothèque `Plots`.\n",
        "\n",
        "\"\"\""
      ]
    },
    {
      "cell_type": "code",
      "execution_count": null,
      "metadata": {},
      "outputs": [],
      "source": [
        "md\"\"\"\n",
        "# Julia 1.5.1\n",
        "\n",
        "## Étape 1 : installation\n",
        "\n",
        "Depuis le site <https://julialang.org/downloads/>, télécharger la dernière version stable, à savoir Julia 1.5.1 en sélectionnant le bon système d'exploitation (Linux x86, Mac, Windows...).\n",
        "\n",
        "Lancer enfin l'installation.\n",
        "\n",
        "## Étape 2 : installation et démarrage\n",
        "\n",
        "Le programme \"Julia 1.5.1\" doit maintenant être installé sur votre ordinateur. Pour le démarrer, chercher l'exécutable et lancer l'installation. Vous devriez voir apparaitre la console Julia, aussi appelée *Julia REPL*.\n",
        "\n",
        "## Étape 3 : prise en main de la console\n",
        "\n",
        "Depuis la console Julia, exécutez quelques commandes, par exemple :\n",
        "```julia\n",
        "function sayhello(name = \"Bonnie\")\n",
        "\tprintln(\"Hello, $(name)!\")\n",
        "end\n",
        "sayhello()\n",
        "sayhello(\"Clyde\")\n",
        "```\n",
        "\n",
        "\"\"\""
      ]
    },
    {
      "cell_type": "code",
      "execution_count": null,
      "metadata": {},
      "outputs": [],
      "source": [
        "md\"\"\"\n",
        "# Bibliothèque `Pluto`\n",
        "\n",
        "## Étape 1 : installation\n",
        "\n",
        "L'étape suivante est l'installation de la bibliothèque [`Pluto`](https://github.com/fonsp/Pluto.jl) grâce au *package manager*.\n",
        "\n",
        "Pour ce faire, ouvrir la console puis entrer `]` (fermeture de crochet) pour accéder au mode `Pkg` :\n",
        "```julia\n",
        "julia> ]\n",
        "(@v1.5) pkg>\n",
        "```\n",
        "\n",
        "La line devient bleue et le *prompt* change. Pour installer `Pluto`, exécuter la commande suivante :\n",
        "```julia\n",
        "(@v1.5) pkg> add Pluto\n",
        "```\n",
        "\n",
        "L'installation devrait se terminer après quelques minutes.\n",
        "\n",
        "## Étape 2 : installation du navigateur\n",
        "\n",
        "L'exécution des notebooks `Pluto` nécessite un navigateur. Pour un rendu optimal, utiliser [Mozilla Firefox](https://www.mozilla.org/firefox/) ou [Google Chrome](https://www.google.com/chrome/).\n",
        "\n",
        "## Étape 3 : démarrage\n",
        "\n",
        "Depuis la console Julia, exécuter les commandes suivantes :\n",
        "```julia\n",
        "julia> using Pluto\n",
        "julia> Pluto.run()\n",
        "```\n",
        "\n",
        "La console vous propose à présent de vous rendre à l'URL <http://localhost:1234/> (ou quelque chose comme ça) qu'il vous suffit d'ouvrir dans votre navigateur.\n",
        "\n",
        "La page d'accueil de `Pluto` devrait maintenant s'ouvrir dans votre navigateur.\n",
        "\n",
        "## Étape 4 : ouverture d'un notebook\n",
        "\n",
        "Il s'agit maintenant d'ouvrir d'un notebook (par exemple, celui dont ce document est un rendu HTML, et qui se trouve à l'adresse <https://github.com/vlc1/ene-4102c-td/blob/master/td-1.jl>). Il vous suffit simplement de copier-coller cette adresse dans le champs *Open from file* et de cliquer sur *Open* !\n",
        "\n",
        "## Étape 5 : prise en main\n",
        "\n",
        "Pour une première prise en main de `Pluto`,\n",
        "\n",
        "1. modifier et exécuter les cellules suivantes,\n",
        "2. ajouter quelques cellules...\n",
        "\n",
        "\"\"\""
      ]
    },
    {
      "cell_type": "code",
      "execution_count": null,
      "metadata": {},
      "outputs": [],
      "source": [
        "a = 1 + 3"
      ]
    },
    {
      "cell_type": "code",
      "execution_count": null,
      "metadata": {},
      "outputs": [],
      "source": [
        "b = 3a"
      ]
    },
    {
      "cell_type": "code",
      "execution_count": null,
      "metadata": {},
      "outputs": [],
      "source": [
        "function myexp(x, n = 1)\n",
        "\ty = zero(x)\n",
        "\tfor i in 0:n\n",
        "\t\ty += x ^ i / factorial(i)\n",
        "\tend\n",
        "\ty\n",
        "end"
      ]
    },
    {
      "cell_type": "code",
      "execution_count": null,
      "metadata": {},
      "outputs": [],
      "source": [
        "myexp(1., 4), exp(1.), Float64(ℯ)"
      ]
    },
    {
      "cell_type": "code",
      "execution_count": null,
      "metadata": {},
      "outputs": [],
      "source": [
        "md\"\"\"\n",
        "# Bibliothèque `Plots`\n",
        "\n",
        "## Étape 1 : installation de la bibliothèque\n",
        "\n",
        "L'étape suivante est l'installation de la bibliothèque [`Plots`](https://github.com/fonsp/Plots.jl). Comme pour la bibliothèque précédente, depuis le mode `Pkg` de la console Julia, exécuter la commande suivante :\n",
        "```julia\n",
        "(@v1.5) pkg> add Plots\n",
        "```\n",
        "\n",
        "## Étape 2 : premiers graphiques\n",
        "\n",
        "Dans votre notebook `Pluto`, créer quelques cellules pour visualiser la fonction (ou toute fonction de votre choix)\n",
        "\n",
        "$$x \\mapsto \\exp \\left ( x \\right ).$$\n",
        "\n",
        "Les deux commandes suivantes devront être exécutées.\n",
        "```julia\n",
        "using Plots\n",
        "plot(exp)\n",
        "```\n",
        "\n",
        "Profitez-en pour utiliser les arguments mot-clé vus en cours (`xlims`, `ylims`, `lw`...) voir la page suivante pour davantage d'exemple : <https://docs.juliaplots.org/latest/attributes/>.\n",
        "\n",
        "Enfin, explorez la possibilité de tracer plusieurs graphes sur une même figure, soit\n",
        "```julia\n",
        "plot([exp, log])\n",
        "```\n",
        "ou encore\n",
        "```julia\n",
        "fig = plot(exp)\n",
        "plot!(fig, log)\n",
        "```\n",
        "\n",
        "\"\"\""
      ]
    }
  ],
  "metadata": {
    "kernelspec": {
      "display_name": "Julia 1.0.0",
      "language": "julia",
      "name": "julia-1.0"
    },
    "language_info": {
      "file_extension": ".jl",
      "mimetype": "application/julia",
      "name": "julia",
      "version": "1.0.0"
    }
  },
  "nbformat": 4,
  "nbformat_minor": 2
}