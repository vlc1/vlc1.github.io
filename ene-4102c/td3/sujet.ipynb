{
 "cells": [
  {
   "cell_type": "code",
   "execution_count": null,
   "metadata": {},
   "outputs": [],
   "source": [
    "using Plots, Zygote, LsqFit, Roots"
   ]
  },
  {
   "cell_type": "markdown",
   "metadata": {},
   "source": [
    "Versions [Pluto](https://github.com/vlc1/ene-4102c-td/blob/master/td3.jl) et [Jupyter](https://vlc1.github.io/ene-4102c/td3.ipynb) de ce notebook."
   ]
  },
  {
   "cell_type": "code",
   "execution_count": null,
   "metadata": {},
   "outputs": [],
   "source": [
    "fig = contour(\n",
    "    -3:0.01:.5,\n",
    "    -3:0.01:3,\n",
    "    (x, y) -> (1 + x) ^ 2 + y ^ 2,\n",
    "    levels = [1],\n",
    "    aspect_ratio = :equal,\n",
    "    color = :blue,\n",
    "    lw = 2,\n",
    "    title = \"Domaines de stabilité des méthodes EE et RK2\"\n",
    ")\n",
    "contour!(\n",
    "    fig,\n",
    "    -3:0.01:.5,\n",
    "    -3:0.01:3,\n",
    "    (x, y) -> (1 + x + (x ^ 2 - y ^ 2) / 2) ^ 2 + (y * (1 + x)) ^ 2,\n",
    "    levels = [1],\n",
    "    aspect_ratio = :equal,\n",
    "    color = :red,\n",
    "    lw = 2\n",
    ")"
   ]
  },
  {
   "cell_type": "markdown",
   "metadata": {},
   "source": [
    "# Domaine de stabilité\n",
    "\n",
    "On a vu en cours que les domaines de stabilité des schémas explicit d'Euler et RK2 sont respectivement\n",
    "$$\n",
    "\\left \\{ z \\in \\mathbb{C} \\left  / \\left \\vert 1 + z \\right \\vert \\le 1 \\right . \\right \\}\n",
    "$$\n",
    "et\n",
    "$$\n",
    "\\left \\{ z \\in \\mathbb{C} \\left  / \\left \\vert 1 + z + z ^ 2 / 2 \\right \\vert \\le 1 \\right . \\right \\}.\n",
    "$$\n",
    "\n",
    "1. Définir la raison $\\overline{\\sigma} \\left ( z \\right )$ ($z = \\lambda \\tau$) pour la méthode de RK4.\n",
    "1. Visualiser le domaine de stabilité de RK4 grâce à la fonction `contour` de la bibliothèque `Plots.jl`.\n",
    "1. Dans le cas $\\lambda \\in \\mathbb{R} ^ -$, trouver le pas de temps maximal de RK4 (en fonction de $\\lambda$). On utilisera la fonction `find_zero` de la bibliothèque `Roots.jl` (à installer).\n",
    "1. Vérifier qu'au delà de ce pas de temps, cette méthode devient instable.\n"
   ]
  },
  {
   "cell_type": "markdown",
   "metadata": {},
   "source": [
    "# Ordre de convergence\n",
    "\n",
    "On rappelle que l'erreur d'un schéma à l'instant $t _ n$, définie par\n",
    "$$\n",
    "\\epsilon = y_n - y \\left ( t_n \\right ),\n",
    "$$\n",
    "peut s'écrire\n",
    "$$\n",
    "\\epsilon = C \\tau ^ p\n",
    "$$\n",
    "où $p$ dénote l'**ordre** de la méthode.\n",
    "\n",
    "1. Montrer que $\\ln \\epsilon$ est une fonction affine de $\\ln \\tau$.\n",
    "1. En réutilisant le code du TD2 (voir ci-dessous), pour chaque schéma, calculer l'erreur à un temps donné (par exemple, ``s = 1``) en utilisant plusieurs pas de temps. On pourra s'inspirer du code suivant :\n",
    "```julia\n",
    "Δ = [0.125 / 2 ^ i for i in 5:-1:1]\n",
    "methods = [explicit, implicit, midpoint, rk2, rk4]\n",
    "errors = Dict(method => Float64[] for method in methods)\n",
    "for method in methods\n",
    "\tpb = Problem(method, linear)\n",
    "\tfor δ in Δ\n",
    "\t\tT, Y = integrate(pb, y, t, δ, s)\n",
    "\t\tappend!(errors[method], abs(Y[end] - solution(T[end])))\n",
    "\tend\n",
    "end\n",
    "```\n",
    "3. Visualiser l'erreur en fonction du pas de temps grâce aux fonctions `scatter`/`scatter!` en échelle logarithmique (`scale = :log`).\n",
    "4. Utiliser le logarithme de ces valeurs ainsi que la méthode des moindres carrés, implémentée par la fonction `curve_fit` de `LsqFit.jl` (à installer), pour estimer les paramètres de la fonction suivante : `e(τ, p) = p[1] .+ p[2] .* τ`.\n"
   ]
  },
  {
   "cell_type": "code",
   "execution_count": null,
   "metadata": {},
   "outputs": [],
   "source": [
    "function newton(f, x, p...)\n",
    "    r = f(x, p...)\n",
    "    while abs(r) > √eps(r)\n",
    "        x -= r / first(gradient(f, x, p...))\n",
    "        r = f(x, p...)\n",
    "    end\n",
    "    x, r\n",
    "end"
   ]
  },
  {
   "cell_type": "code",
   "execution_count": null,
   "metadata": {},
   "outputs": [],
   "source": [
    "struct Problem{F, G}\n",
    "    scheme::F\n",
    "    model::G\n",
    "end"
   ]
  },
  {
   "cell_type": "code",
   "execution_count": null,
   "metadata": {},
   "outputs": [],
   "source": [
    "(this::Problem)(var...) = this.scheme(this.model, var...)"
   ]
  },
  {
   "cell_type": "code",
   "execution_count": null,
   "metadata": {},
   "outputs": [],
   "source": [
    "function integrate(problem, y, t, τ, s)\n",
    "    T = [t]\n",
    "    Y = [y]\n",
    "\n",
    "\twhile t < (1 - √eps(t)) * s\n",
    "        y, _ = newton(problem, y, y, τ, t)\n",
    "        t += τ\n",
    "        \n",
    "        push!(Y, y)\n",
    "        push!(T, t)\n",
    "    end\n",
    "\n",
    "    T, Y\n",
    "end"
   ]
  },
  {
   "cell_type": "code",
   "execution_count": null,
   "metadata": {},
   "outputs": [],
   "source": [
    "explicit(f, x, y, τ, t) = x - y - τ * f(t, y)"
   ]
  },
  {
   "cell_type": "code",
   "execution_count": null,
   "metadata": {},
   "outputs": [],
   "source": [
    "implicit(f, x, y, τ, t) = x - y - τ * f(t + τ, x)"
   ]
  },
  {
   "cell_type": "code",
   "execution_count": null,
   "metadata": {},
   "outputs": [],
   "source": [
    "trapezoidal(f, x, y, τ, t) = x - y - τ * (f(t, y) + f(t + τ, y)) / 2"
   ]
  },
  {
   "cell_type": "code",
   "execution_count": null,
   "metadata": {},
   "outputs": [],
   "source": [
    "midpoint(f, x, y, τ, t) = x - y - τ * f(t + τ / 2, (x + y) / 2)"
   ]
  },
  {
   "cell_type": "code",
   "execution_count": null,
   "metadata": {},
   "outputs": [],
   "source": [
    "function rk2(f, x, y, τ, t)\n",
    "    z = y + τ * f(t, y) / 2\n",
    "    x - y - τ * f(t + τ / 2, z)\n",
    "end"
   ]
  },
  {
   "cell_type": "code",
   "execution_count": null,
   "metadata": {},
   "outputs": [],
   "source": [
    "function rk4(f, x, y, τ, t)\n",
    "\tk₁ = τ * f(t, y)\n",
    "\tk₂ = τ * f(t + τ / 2, y + k₁ / 2)\n",
    "\tk₃ = τ * f(t + τ / 2, y + k₂ / 2)\n",
    "\tk₄ = τ * f(t + τ, y + k₃)\n",
    "\tx - y - (k₁ + 2k₂ + 2k₃ + k₄) / 6\n",
    "end"
   ]
  },
  {
   "cell_type": "code",
   "execution_count": null,
   "metadata": {},
   "outputs": [],
   "source": [
    "linear(t, y, λ = -1) = λ * y"
   ]
  },
  {
   "cell_type": "code",
   "execution_count": null,
   "metadata": {},
   "outputs": [],
   "source": [
    "solution(t, λ = -1, y₀ = 1., t₀ = 0.) = exp(λ * (t - t₀)) * y₀"
   ]
  },
  {
   "cell_type": "code",
   "execution_count": null,
   "metadata": {},
   "outputs": [],
   "source": [
    "problem = Problem(rk2, linear)"
   ]
  },
  {
   "cell_type": "code",
   "execution_count": null,
   "metadata": {},
   "outputs": [],
   "source": [
    "y, t = 1.0, 0."
   ]
  },
  {
   "cell_type": "code",
   "execution_count": null,
   "metadata": {},
   "outputs": [],
   "source": [
    "τ, s = 0.1, 1."
   ]
  },
  {
   "cell_type": "code",
   "execution_count": null,
   "metadata": {},
   "outputs": [],
   "source": [
    "T, Y = integrate(problem, y, t, τ, s)"
   ]
  }
 ],
 "metadata": {
  "@webio": {
   "lastCommId": "24b81510d2714f288a4cceb3379b4d5a",
   "lastKernelId": "efcec657-121a-4743-af27-1a7025b4437d"
  },
  "kernelspec": {
   "display_name": "Julia 1.5.1",
   "language": "julia",
   "name": "julia-1.5"
  },
  "language_info": {
   "file_extension": ".jl",
   "mimetype": "application/julia",
   "name": "julia",
   "version": "1.5.1"
  },
  "toc": {
   "base_numbering": 1,
   "nav_menu": {},
   "number_sections": true,
   "sideBar": true,
   "skip_h1_title": false,
   "title_cell": "Table of Contents",
   "title_sidebar": "Contents",
   "toc_cell": false,
   "toc_position": {},
   "toc_section_display": true,
   "toc_window_display": false
  }
 },
 "nbformat": 4,
 "nbformat_minor": 2
}
