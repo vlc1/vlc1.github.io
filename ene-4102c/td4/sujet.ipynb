{
 "cells": [
  {
   "cell_type": "code",
   "execution_count": null,
   "metadata": {},
   "outputs": [],
   "source": [
    "using DifferentialEquations, LinearAlgebra, Plots, LsqFit"
   ]
  },
  {
   "cell_type": "markdown",
   "metadata": {},
   "source": [
    "Versions [Pluto](https://github.com/vlc1/ene-4102c-td/blob/master/td4.jl) et [Jupyter](https://vlc1.github.io/ene-4102c/td4.ipynb) de ce notebook.\n"
   ]
  },
  {
   "cell_type": "markdown",
   "metadata": {},
   "source": [
    "# Résolution du problème de Blasius\n",
    "\n",
    "On se propose de résoudre le problème de Blasius de deux façons :\n",
    "\n",
    "1. Par la méthode de tir (*shooting*), implémentée dans la bibliothèque `DifferentialEquations.jl`,\n",
    "1. En exploitant une symétrie du problème.\n",
    "\n",
    "Le problème s'écrit :\n",
    "$$\n",
    "y''' \\left ( x \\right ) + y \\left ( x \\right ) y'' \\left ( x \\right ) = 0\n",
    "$$\n",
    "où la variable dépendante $y$ vérifie les conditions aux limites\n",
    "$$\n",
    "\\left \\{ \\begin{aligned}\n",
    "y \\left ( 0 \\right ) & = 0, \\\\\n",
    "y' \\left ( 0 \\right ) & = 0, \\\\\n",
    "y' \\left ( \\infty \\right ) & = 1.\n",
    "\\end{aligned} \\right .\n",
    "$$\n",
    "\n",
    "L'une des difficultés rencontrées lors de la résolution numérique de ce problème est qu'il est défini sur un domaine semi-infini. On se propose ici d'utiliser la méthode dite *domain truncation*, qui consiste à résoudre l'équation sur un domaine fini mais suffisamment grand pour ne pas influencer la solution numérique, ce qui doit bien sûr être vérifié *a posteriori*.\n",
    "\n",
    "## Problème aux limites et méthode de tir\n",
    "\n",
    "1. Quel est le degré de cette EDO ? La réécrire sous la forme d'un système d'EDO d'ordre 1.\n",
    "2. À partir de ce [tutoriel](https://diffeq.sciml.ai/stable/tutorials/bvp_example/), résoudre l'équation de Blasius sur le domaine $\\left [ 0, 10000 \\right ]$. On pourra utiliser les fonctions suivantes.\n",
    "\n",
    "```julia\n",
    "function blasius!(z, y, p, x)\n",
    "    z[1] = y[2]\n",
    "    z[2] = y[3]\n",
    "    z[3] = -y[1] * y[3]\n",
    "end\n",
    "```\n",
    "```julia\n",
    "function bc!(r, y, p, x)\n",
    "    r[1] = y[begin][1]\n",
    "    r[2] = y[begin][2]\n",
    "    r[3] = y[end][2] - 1\n",
    "end\n",
    "```\n",
    "\n",
    "## Problème de Cauchy et symétrie\n",
    "\n",
    "3. Montrer que l'équation de Blasius et les conditions en $0$ sont inchangées par la transformation\n",
    "$$\n",
    "\\begin{aligned}\n",
    "\\overline{y} & \\leftarrow c y, \\\\\n",
    "\\overline{x} & \\leftarrow x / c.\n",
    "\\end{aligned}\n",
    "$$\n",
    "\n",
    "On suppose maintenant que $\\overline{y}$ est soumis à la même équation que $y$, à l'exception de la condition en $\\infty$ qui est remplacée par :\n",
    "$$\n",
    "\\overline{y}'' \\left ( 0 \\right ) = 1.\n",
    "$$\n",
    "On définit alors\n",
    "$$\n",
    "\\alpha = \\overline{y}' \\left ( \\infty \\right ).\n",
    "$$\n",
    "\n",
    "4. Montrer que le choix de la constante $c = \\sqrt{\\alpha}$ mène à\n",
    "$$\n",
    "y' \\left ( \\infty \\right ) = 1.\n",
    "$$\n",
    "5. Résoudre $\\overline{y}$ numériquement à partir de ce [tutoriel](https://diffeq.sciml.ai/stable/tutorials/ode_example/) et en déduire la solution de Blasius intégrant le problème numériquement une seule fois.\n",
    "\n",
    "## Vérification\n",
    "\n",
    "6. Vérifier qu'augmenter la taille du domaine d'intégration n'affecte pas la solution numérique.\n"
   ]
  },
  {
   "cell_type": "markdown",
   "metadata": {},
   "source": [
    "# Conduction stationnaire dans une barre\n",
    "\n",
    "On se propose de résoudre l'équation\n",
    "$$\n",
    "0 = y'' \\left ( x \\right ) + f \\left ( x \\right )\n",
    "$$\n",
    "avec les conditions\n",
    "$$\n",
    "\\left \\{ \\begin{aligned}\n",
    "y ' \\left ( 0 \\right ) & = g_0, \\\\\n",
    "y \\left ( 1 \\right ) & = y_1.\n",
    "\\end{aligned} \\right .\n",
    "$$\n",
    "\n",
    "$f$ représente une source (par exemple un dépot de chaleur par laser).\n",
    "\n",
    "1. Soit $n$ le nombre de points. Quelle valeur de $h$ utiliser pour obtenir une discrétisation d'ordre 2 ? Implémenter la fonction `spacing` qui retourne $h$ en fonction de $n$, et enfin `mesh` qui retourne un tableau contenant les abscisses de chacune des inconnues.\n"
   ]
  },
  {
   "cell_type": "code",
   "execution_count": null,
   "metadata": {},
   "outputs": [],
   "source": [
    "spacing(n) = 0.0"
   ]
  },
  {
   "cell_type": "code",
   "execution_count": null,
   "metadata": {},
   "outputs": [],
   "source": [
    "mesh(n) = zeros(n)"
   ]
  },
  {
   "cell_type": "markdown",
   "metadata": {},
   "source": [
    "2. Discrétiser l'équation, et l'implémenter à l'aide de deux fonctions, `laplacian` et `rhs`, invoquée depuis la fonction `numerical` ci-dessous.\n"
   ]
  },
  {
   "cell_type": "code",
   "execution_count": null,
   "metadata": {},
   "outputs": [],
   "source": [
    "function laplacian(n)\n",
    "    A = Tridiagonal(zeros.((n - 1, n, n - 1))...)\n",
    "\n",
    "    for i in 1:n\n",
    "        A[i, i] = 1.0\n",
    "    end\n",
    "\n",
    "    A\n",
    "end"
   ]
  },
  {
   "cell_type": "code",
   "execution_count": null,
   "metadata": {},
   "outputs": [],
   "source": [
    "rhs(n, f, g₀, y₁) = zeros(n)"
   ]
  },
  {
   "cell_type": "code",
   "execution_count": null,
   "metadata": {},
   "outputs": [],
   "source": [
    "function numerical(n, f, g₀, y₁)\n",
    "    A, B = laplacian(n), rhs(n, f, g₀, y₁)\n",
    "    A \\ B\n",
    "end"
   ]
  },
  {
   "cell_type": "markdown",
   "metadata": {},
   "source": [
    "3. Définir la solution analytique du problème suivant (fonction `analytical`) :\n"
   ]
  },
  {
   "cell_type": "code",
   "execution_count": null,
   "metadata": {},
   "outputs": [],
   "source": [
    "begin\n",
    "    f(x) = -one(x)\n",
    "    g₀ = 0.0\n",
    "    y₁ = 0.5\n",
    "end"
   ]
  },
  {
   "cell_type": "code",
   "execution_count": null,
   "metadata": {},
   "outputs": [],
   "source": [
    "analytical(x) = zero(x)"
   ]
  },
  {
   "cell_type": "markdown",
   "metadata": {},
   "source": [
    "4. Résoudre le problème pour $n = 2$, $4$... et visualiser les solutions numérique et analytique. Que constatez-vous ?\n"
   ]
  },
  {
   "cell_type": "code",
   "execution_count": null,
   "metadata": {},
   "outputs": [],
   "source": [
    "N = [2, 4, 8, 16]"
   ]
  },
  {
   "cell_type": "code",
   "execution_count": null,
   "metadata": {},
   "outputs": [],
   "source": [
    "begin\n",
    "    fig = plot()\n",
    "    for n in N\n",
    "        X, Y = mesh(n), numerical(n, f, g₀, y₁)\n",
    "        scatter!(fig, X, Y)\n",
    "        plot!(fig, X, analytical.(X))\n",
    "    end\n",
    "end"
   ]
  },
  {
   "cell_type": "code",
   "execution_count": null,
   "metadata": {},
   "outputs": [],
   "source": [
    "fig"
   ]
  },
  {
   "cell_type": "markdown",
   "metadata": {},
   "source": [
    "5. Construire un autre problème en modifiant `f`, `g₀`, `y₁` et `analytical` de sorte à que la solution ne soit plus un polynôme d'ordre 2.\n",
    "6. Calculer les erreurs $L_1$, $L_2$ et $L_\\infty$ pour plusieurs maillages et normes. Enfin, estimer l'ordre de convergence pour chacune des normes par la méthode des moindres carrés.\n"
   ]
  }
 ],
 "metadata": {
  "@webio": {
   "lastCommId": "cbc0db9c209f4fff81e7ad198c6cbf3b",
   "lastKernelId": "07d76c6c-8385-4e78-8a07-584b3ae1b5db"
  },
  "kernelspec": {
   "display_name": "Julia 1.5.1",
   "language": "julia",
   "name": "julia-1.5"
  },
  "language_info": {
   "file_extension": ".jl",
   "mimetype": "application/julia",
   "name": "julia",
   "version": "1.5.1"
  },
  "toc": {
   "base_numbering": 1,
   "nav_menu": {},
   "number_sections": true,
   "sideBar": true,
   "skip_h1_title": false,
   "title_cell": "Table of Contents",
   "title_sidebar": "Contents",
   "toc_cell": false,
   "toc_position": {},
   "toc_section_display": true,
   "toc_window_display": false
  }
 },
 "nbformat": 4,
 "nbformat_minor": 2
}
