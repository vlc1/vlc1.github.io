{
  "cells": [
    {
      "cell_type": "code",
      "execution_count": null,
      "metadata": {},
      "outputs": [],
      "source": [
        "### A Pluto.jl notebook ###\n",
        "# v0.11.14\n",
        "\n",
        "using Markdown\n",
        "using InteractiveUtils"
      ]
    },
    {
      "cell_type": "code",
      "execution_count": null,
      "metadata": {},
      "outputs": [],
      "source": [
        "md\"\"\"\n",
        "Ce notebook est à retrouver [ici](https://github.com/vlc1/ene-4102c-td/blob/master/td1-part2.jl).\n",
        "\n",
        "\"\"\""
      ]
    },
    {
      "cell_type": "code",
      "execution_count": null,
      "metadata": {},
      "outputs": [],
      "source": [
        "md\"\"\"\n",
        "# Exercice 1\n",
        "\n",
        "Établir pour chacune des fonctions proposées ci-dessous un développement limité en $0$ à l'ordre $n$.\n",
        "\n",
        "| $f$ | $n$ |\n",
        "|:--------:|:-----:|\n",
        "| $$x \\mapsto \\frac{\\ln \\left ( 1 + x \\right )}{1 + x}$$ | $3$ |\n",
        "| $$x \\mapsto \\frac{\\ln \\left [ \\cosh \\left ( x \\right ) \\right ]}{x \\ln \\left ( 1 + x \\right )}$$ | $2$ |\n",
        "| $$x \\mapsto \\frac{\\cos \\left ( x \\right ) - 1}{\\ln \\left ( 1 + x \\right ) \\sinh \\left ( x \\right )}$$ | $3$ |\n",
        "\n",
        "\"\"\""
      ]
    },
    {
      "cell_type": "code",
      "execution_count": null,
      "metadata": {},
      "outputs": [],
      "source": [
        "md\"\"\"\n",
        "# Exercice 2\n",
        "\n",
        "Calculer la limite\n",
        "\n",
        "$$\\lim_{x \\to 0} \\frac{\\sinh \\left ( x \\right )}{\\sin \\left ( x \\right )}.$$\n",
        "\n",
        "\"\"\""
      ]
    },
    {
      "cell_type": "code",
      "execution_count": null,
      "metadata": {},
      "outputs": [],
      "source": [
        "md\"\"\"\n",
        "# Exercice 3\n",
        "\n",
        "1. Adapter l'exemple du développement limité de la fonction exponentielle (vu en cours, voir le [notebook précédent](http://vlc1.github.io/ene-4102c/td1-part1.html)) aux fonctions `cosh` et `sinh`.\n",
        "1. Utiliser la bibliothèque pour visualiser ces développements limités (sur le même graphe).\n",
        "\n",
        "\"\"\""
      ]
    }
  ],
  "metadata": {
    "kernelspec": {
      "display_name": "Julia 1.0.0",
      "language": "julia",
      "name": "julia-1.0"
    },
    "language_info": {
      "file_extension": ".jl",
      "mimetype": "application/julia",
      "name": "julia",
      "version": "1.0.0"
    }
  },
  "nbformat": 4,
  "nbformat_minor": 2
}