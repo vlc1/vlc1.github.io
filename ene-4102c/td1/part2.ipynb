{
 "cells": [
  {
   "cell_type": "markdown",
   "metadata": {},
   "source": [
    "Versions [Pluto](https://github.com/vlc1/ene-4102c-td/blob/master/td1/part2.jl) et [Jupyter](https://vlc1.github.io/ene-4102c/td1/part2.ipynb) de ce notebook.\n"
   ]
  },
  {
   "cell_type": "markdown",
   "metadata": {},
   "source": [
    "# Exercice\n",
    "\n",
    "Établir pour chacune des fonctions proposées ci-dessous un développement limité en $0$ à l'ordre $n$.\n",
    "\n",
    "| $f$ | $n$ |\n",
    "|:--------:|:-----:|\n",
    "| $$x \\mapsto \\frac{\\ln \\left ( 1 + x \\right )}{1 + x}$$ | $3$ |\n",
    "| $$x \\mapsto \\frac{\\ln \\left [ \\cosh \\left ( x \\right ) \\right ]}{x \\ln \\left ( 1 + x \\right )}$$ | $2$ |\n",
    "| $$x \\mapsto \\frac{\\cos \\left ( x \\right ) - 1}{\\ln \\left ( 1 + x \\right ) \\sinh \\left ( x \\right )}$$ | $3$ |\n"
   ]
  },
  {
   "cell_type": "markdown",
   "metadata": {},
   "source": [
    "# Exercice\n",
    "\n",
    "Calculer la limite\n",
    "\n",
    "$$\\lim_{x \\to 0} \\frac{\\sinh \\left ( x \\right )}{\\sin \\left ( x \\right )}.$$\n"
   ]
  },
  {
   "cell_type": "markdown",
   "metadata": {},
   "source": [
    "# Exercice\n",
    "\n",
    "1. Adapter l'exemple du développement limité de la fonction exponentielle aux fonctions `cosh` et `sinh`.\n",
    "1. Utiliser la bibliothèque pour visualiser ces développements limités (sur le même graphe).\n"
   ]
  }
 ],
 "metadata": {
  "@webio": {
   "lastCommId": null,
   "lastKernelId": null
  },
  "kernelspec": {
   "display_name": "Julia 1.5.1",
   "language": "julia",
   "name": "julia-1.5"
  },
  "language_info": {
   "file_extension": ".jl",
   "mimetype": "application/julia",
   "name": "julia",
   "version": "1.5.1"
  },
  "toc": {
   "base_numbering": 1,
   "nav_menu": {},
   "number_sections": true,
   "sideBar": true,
   "skip_h1_title": false,
   "title_cell": "Table of Contents",
   "title_sidebar": "Contents",
   "toc_cell": false,
   "toc_position": {},
   "toc_section_display": true,
   "toc_window_display": false
  }
 },
 "nbformat": 4,
 "nbformat_minor": 2
}
