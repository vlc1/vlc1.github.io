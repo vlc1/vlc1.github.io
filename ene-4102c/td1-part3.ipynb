{
  "cells": [
    {
      "cell_type": "code",
      "execution_count": null,
      "metadata": {},
      "outputs": [],
      "source": [
        "### A Pluto.jl notebook ###\n",
        "# v0.11.14\n",
        "\n",
        "using Markdown\n",
        "using InteractiveUtils"
      ]
    },
    {
      "cell_type": "code",
      "execution_count": null,
      "metadata": {},
      "outputs": [],
      "source": [
        "md\"\"\"\n",
        "Ce notebook est à retrouver [ici](https://github.com/vlc1/ene-4102c-td/blob/master/td1-part3.jl).\n",
        "\n",
        "\"\"\""
      ]
    },
    {
      "cell_type": "code",
      "execution_count": null,
      "metadata": {},
      "outputs": [],
      "source": [
        "md\"\"\"\n",
        "# Exercice 1 -- Manipulation de matrices\n",
        "\n",
        "1. Définir le vecteur $u = \\left [ \\begin{array}{cccccc} 0 & 1 & 2 & 3 & \\cdots & 49 & 50 \\end{array} \\right ]$. Quelle est sa taille ?\n",
        "1. Définir le vecteur $v$ contenant les cinq premiers éléments de $u$, et le vecteur $w$ contenant les cinq premiers et les cinq derniers éléments de $u$.\n",
        "1. Définir la matrice\n",
        "$$M =\n",
        "\\left [ \\begin{array}{ccccccc}\n",
        "1 & 2 & 3 & \\cdots & 8 & 9 & 10 \\\\\n",
        "11 & 12 & 13 & \\cdots & 18 & 19 & 20 \\\\\n",
        "21 & 22 & 23 & \\cdots & 28 & 29 & 30\n",
        "\\end{array}\n",
        "\\right ].$$\n",
        "4. Extraire de $M$ les matrices\n",
        "$$N =\n",
        "\\left [ \\begin{array}{cc}\n",
        "1 & 2 \\\\\n",
        "11 & 12 \\\\\n",
        "21 & 22\n",
        "\\end{array} \\right ], \\quad P =\n",
        "\\left [ \\begin{array}{ccc}\n",
        "8 & 9 & 10 \\\\\n",
        "18 & 19 & 20 \\\\\n",
        "28 & 29 & 30\n",
        "\\end{array} \\right ] \\quad \\mathrm{et} \\quad Q =\n",
        "\\left [ \\begin{array}{cc}\n",
        "3 & 7 \\\\\n",
        "23 & 27 \\end{array} \\right ].$$\n",
        "5. Extraire de la matrice $M$ la matrice $R$ obtenue en prenant une colonne sur deux.\n",
        "1. Définir les matrices $A = \\left [ \\begin{array}{ccccc} 2 & 4 & 6 & 8 & \\cdots & 100 \\end{array} \\right ]$ et $B = \\left [ \\begin{array}{ccccc} -1 & -3 & -5 & \\cdots & -99 \\end{array} \\right ]$ puis le vecteur $x = \\left [ \\begin{array}{ccccccccc} -1 & 2 & -3 & 4 & -5 & 6 & \\cdots & -99 & 100 \\end{array} \\right ]$.\n",
        "\n",
        "\"\"\""
      ]
    },
    {
      "cell_type": "code",
      "execution_count": null,
      "metadata": {},
      "outputs": [],
      "source": [
        "md\"\"\"\n",
        "# Exercice 2 -- Matrices et systèmes linéaires\n",
        "\n",
        "1. Écrire une fonction, n'utilisant aucune boucle (`for`, `while`...) qui prend comme paramètre un entier $n$ et qui construit la matrice suivante :\n",
        "$$\\left [ \\begin{array}{ccccccc}\n",
        "1 & 1 & 0 & \\cdots & 0 & 0 & 0 \\\\\n",
        "\\frac{1}{n} & 2 & \\frac{n-1}{n} & \\cdots & 0 & 0 & 0 \\\\\n",
        "0 & \\frac{2}{n} & 3 & \\cdots & 0 & 0 & 0 \\\\\n",
        "\\vdots & \\vdots & \\vdots & \\ddots & \\vdots & \\vdots & \\vdots \\\\\n",
        "0 & 0 & 0 & \\cdots & n - 1 & \\frac{2}{n} & 0 \\\\\n",
        "0 & 0 & 0 & \\cdots & \\frac{n - 1}{n} & n & \\frac{1}{n} \\\\\n",
        "0 & 0 & 0 & \\cdots & 0 & 1 & n + 1\n",
        "\\end{array} \\right ].$$\n",
        "\"\"\""
      ]
    },
    {
      "cell_type": "code",
      "execution_count": null,
      "metadata": {},
      "outputs": [],
      "source": [
        "Markdown.MD(Markdown.Admonition(\"hint\", \"Indice\", [md\"Renseignez-vous sur le type `Tridiagonal` de la bibliothèque standart `LinearAlgebra` grâce au *Live docs*.\"]))"
      ]
    },
    {
      "cell_type": "code",
      "execution_count": null,
      "metadata": {},
      "outputs": [],
      "source": [
        "md\"\"\"\n",
        "2. Résoudre numériquement le système\n",
        "$$\\left \\{ \\begin{aligned}\n",
        "x + 2y + 3z + 4t & = 1, \\\\\n",
        "2x + 3y + 4z + t & = -2, \\\\\n",
        "-2x + 4y -5z + 2t & = 0, \\\\\n",
        "8x + y - z + 3t & = 1.\n",
        "\\end{aligned} \\right .$$\n",
        "\n",
        "\"\"\""
      ]
    }
  ],
  "metadata": {
    "kernelspec": {
      "display_name": "Julia 1.0.0",
      "language": "julia",
      "name": "julia-1.0"
    },
    "language_info": {
      "file_extension": ".jl",
      "mimetype": "application/julia",
      "name": "julia",
      "version": "1.0.0"
    }
  },
  "nbformat": 4,
  "nbformat_minor": 2
}