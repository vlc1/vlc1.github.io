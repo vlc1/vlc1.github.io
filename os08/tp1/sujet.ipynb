{
 "cells": [
  {
   "cell_type": "code",
   "execution_count": null,
   "metadata": {},
   "outputs": [],
   "source": [
    "using Zygote, StaticArrays, LinearAlgebra, Kronecker, LsqFit\n",
    "import Zygote.hessian"
   ]
  },
  {
   "cell_type": "markdown",
   "metadata": {},
   "source": [
    "Versions [Pluto](https://github.com/vlc1/ene-4102c-td/blob/master/td5.jl) et [Jupyter](https://vlc1.github.io/ene-4102c/td5/sujet.ipynb) de ce notebook.\n"
   ]
  },
  {
   "cell_type": "markdown",
   "metadata": {},
   "source": [
    "# Method of Manufactured Solutions\n",
    "\n",
    "On s'intéresse ici à la résolution du problème de conduction dans une plaque $\\left ( x, y \\right ) \\in \\left [ 0, 1 \\right ] ^ 2$ en régime stationnaire. On se propose donc de résoudre le problème suivant par la méthode des différences finies :\n",
    "$$\n",
    "0 = \\Delta \\theta \\left ( x, y \\right ) + \\omega \\left ( x, y \\right )\n",
    "$$\n",
    "où le Laplacien en coordonnées Cartésiennes, c'est à dire\n",
    "$$\n",
    "\\Delta \\theta = \\left . \\frac{\\partial ^ 2 \\theta}{\\partial x ^ 2} \\right \\vert _ y +  \\left . \\frac{\\partial ^ 2 \\theta}{\\partial y ^ 2} \\right \\vert _ x.\n",
    "$$\n",
    "\n",
    "Le champs de température $\\theta$ sera soumis aux conditions aux limites suivantes :\n",
    "$$\n",
    "\\left \\{ \\begin{aligned}\n",
    "\\partial_x \\theta \\left ( 0, y \\right ) & = g_1 \\left ( y \\right ), \\\\\n",
    "\\theta \\left ( 1, y \\right ) & = \\theta_1 \\left ( y \\right ),\n",
    "\\end{aligned} \\right . \\quad \\mathrm{and} \\quad \\left \\{ \\begin{aligned}\n",
    "\\partial_y \\theta \\left ( x, 0 \\right ) & = g_2 \\left ( x \\right ), \\\\\n",
    "\\theta \\left ( x, 1 \\right ) & = \\theta_2 \\left ( x \\right ).\n",
    "\\end{aligned} \\right .\n",
    "$$\n",
    "\n",
    "On se propose d'employer la *Method of Manufactured Solutions* afin de vérifier l'implémentation. Étant donnée une solution $\\theta$ choisie à l'avance, l'idée est de\n",
    "\n",
    "* Déterminer $\\omega$, $g_1$, $g_2$, $\\theta_1$ et $\\theta_2$ à partir de cette solution,\n",
    "* Résoudre numériquement le problème et comparer solution numérique à la solution choisie afin d'obtenir l'ordre de la méthode.\n",
    "\n",
    "1. Calculer $\\omega$, $g_1$, $g_2$, $\\theta_1$ et $\\theta_2$ correspondant à la solution\n",
    "$$\n",
    "\\theta \\colon \\left ( x, y \\right ) \\mapsto \\sin \\left ( \\pi x \\right ) \\cos \\left (\\pi y \\right ).\n",
    "$$\n",
    "2. Les fonctions `Δ`, `left`, `bottom`, `right` et `top` prennent $\\theta$ comme argument et retournent respectivement $\\omega$, $g_1$, $g_2$, $\\theta_1$ et $\\theta_2$ automatiquement grâce à la bibliothèque d'*Algorithmic Differentiation* `Zygote.jl`. Vérifier graphiquement que ces fonctions retournent bien le résultat attendu.\n"
   ]
  },
  {
   "cell_type": "code",
   "execution_count": null,
   "metadata": {},
   "outputs": [],
   "source": [
    "# Question 2\n",
    "θ(x, y) = x + y\n",
    "ω(x, y) = zero(x) + zero(y)\n",
    "g₁(y) = one(y)\n",
    "g₂(x) = one(x)\n",
    "θ₁(y) = y\n",
    "θ₂(x) = x"
   ]
  },
  {
   "cell_type": "code",
   "execution_count": null,
   "metadata": {},
   "outputs": [],
   "source": [
    "# Question 2 - NE PAS MODIFIER\n",
    "θ(x::AbstractVector) = θ(x[1], x[2])\n",
    "Δ(f) = (x, y) -> first(hessian(f, SVector(x, y))) + last(hessian(f, SVector(x, y)))\n",
    "left(f) = y -> first(first(gradient(f, SVector(zero(y), y))))\n",
    "bottom(f) = x -> last(first(gradient(f, SVector(x, zero(x)))))\n",
    "right(f) = y -> f(one(y), y)\n",
    "top(f) = x -> f(x, one(x))"
   ]
  },
  {
   "cell_type": "markdown",
   "metadata": {},
   "source": [
    "3. Implémenter la fonction `exact` qui évalue $θ$ à chaque point du maillage.\n"
   ]
  },
  {
   "cell_type": "code",
   "execution_count": null,
   "metadata": {},
   "outputs": [],
   "source": [
    "# Question 3\n",
    "function exact(f, n)\n",
    "    zeros(n...)\n",
    "end"
   ]
  },
  {
   "cell_type": "markdown",
   "metadata": {},
   "source": [
    "4. Les fonctions `phi`, `spacing` et `laplacian` du TD4 sont rappelées plus bas. S'en servir pour implémenter la discrétisation du laplacien en deux dimensions (voir le [produit de Kronecker](https://fr.wikipedia.org/wiki/Produit_de_Kronecker) implémenté par la fonction `kron` de `Kronecker.jl`).\n"
   ]
  },
  {
   "cell_type": "code",
   "execution_count": null,
   "metadata": {},
   "outputs": [],
   "source": [
    "# Question 4\n",
    "function laplacian(n::NTuple{2, Int})\n",
    "    id = Diagonal.(fill.(-1.0, n))\n",
    "    kron(id[2], id[1]) + kron(id[2], id[1])\n",
    "end"
   ]
  },
  {
   "cell_type": "code",
   "execution_count": null,
   "metadata": {},
   "outputs": [],
   "source": [
    "# Question 4 - NE PAS MODIFIER\n",
    "phi() = 1 / √3"
   ]
  },
  {
   "cell_type": "code",
   "execution_count": null,
   "metadata": {},
   "outputs": [],
   "source": [
    "# Question 4 - NE PAS MODIFIER\n",
    "spacing(n) = 1 / (n + phi())"
   ]
  },
  {
   "cell_type": "code",
   "execution_count": null,
   "metadata": {},
   "outputs": [],
   "source": [
    "# Question 4 - NE PAS MODIFIER\n",
    "function laplacian(n)\n",
    "    h = spacing(n)\n",
    "\n",
    "    A = Tridiagonal(zeros.((n - 1, n, n - 1))...)\n",
    "\n",
    "    # gauche\n",
    "    A[1, 1] = 1 / (phi() + 1 / 2) / h ^ 2\n",
    "    A[1, 2] = -1 / (phi() + 1 / 2) / h ^ 2\n",
    "\n",
    "    # intérieur\n",
    "    for j in 2:n - 1\n",
    "        A[j, j - 1] = -1 / h ^ 2\n",
    "        A[j, j] = 2 / h ^ 2\n",
    "        A[j, j + 1] = -1 / h ^ 2\n",
    "    end\n",
    "\n",
    "    # droite\n",
    "    A[n, n - 1] = -1 / h ^ 2\n",
    "    A[n, n] = 2 / h ^ 2\n",
    "\n",
    "    A\n",
    "end"
   ]
  },
  {
   "cell_type": "markdown",
   "metadata": {},
   "source": [
    "5. La fonction `mesh` du TD4 est rappelée plus bas. S'en servir ainsi que `Δ`, `left`, `bottom`, `right` et `top` pour implémenter la fonction `rhs` qui assemble le second membre.\n"
   ]
  },
  {
   "cell_type": "code",
   "execution_count": null,
   "metadata": {},
   "outputs": [],
   "source": [
    "# Question 5\n",
    "function rhs(f, n)\n",
    "    zeros(n...)\n",
    "end"
   ]
  },
  {
   "cell_type": "code",
   "execution_count": null,
   "metadata": {},
   "outputs": [],
   "source": [
    "# Question 5 - NE PAS MODIFIER\n",
    "mesh(n) = [spacing(n) * (phi() + (j - 1)) for j in 1:n]"
   ]
  },
  {
   "cell_type": "markdown",
   "metadata": {},
   "source": [
    "6. La fonction `numerical` définie plus bas résoudre numériquement le problème. Implémenter la fonction `error` ci-dessous qui calcule la norme de la différence entre la solution numérique et la solution analytique. Vérifier que celle-ci est nulle lorsque $\\theta$ est une fonction quadratique.\n"
   ]
  },
  {
   "cell_type": "code",
   "execution_count": null,
   "metadata": {},
   "outputs": [],
   "source": [
    "# Question 6\n",
    "error(f, n) = zero(Float64)"
   ]
  },
  {
   "cell_type": "code",
   "execution_count": null,
   "metadata": {},
   "outputs": [],
   "source": [
    "# Question 6 - NE PAS MODIFIER\n",
    "function numerical(f, n)\n",
    "    A = laplacian(n)\n",
    "    b = reshape(rhs(f, n), prod(n))\n",
    "\n",
    "    x = A \\ b\n",
    "\n",
    "    reshape(x, n...)\n",
    "end"
   ]
  },
  {
   "cell_type": "markdown",
   "metadata": {},
   "source": [
    "7. Pour la solution de la question 1, vérifier le schéma est bien d'ordre deux.\n"
   ]
  }
 ],
 "metadata": {
  "@webio": {
   "lastCommId": "66ce81c73b0a42289dc4176c1956400b",
   "lastKernelId": "eda3e751-e7af-4bdd-ab2d-6169092ca7bd"
  },
  "kernelspec": {
   "display_name": "Julia 1.5.1",
   "language": "julia",
   "name": "julia-1.5"
  },
  "language_info": {
   "file_extension": ".jl",
   "mimetype": "application/julia",
   "name": "julia",
   "version": "1.5.1"
  },
  "toc": {
   "base_numbering": 1,
   "nav_menu": {},
   "number_sections": true,
   "sideBar": true,
   "skip_h1_title": false,
   "title_cell": "Table of Contents",
   "title_sidebar": "Contents",
   "toc_cell": false,
   "toc_position": {},
   "toc_section_display": true,
   "toc_window_display": false
  }
 },
 "nbformat": 4,
 "nbformat_minor": 2
}
